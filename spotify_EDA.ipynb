{
  "nbformat": 4,
  "nbformat_minor": 0,
  "metadata": {
    "colab": {
      "provenance": [],
      "mount_file_id": "1WxfTpYUDY6A11OpJ8oOMCPD1wJN4b5m8",
      "authorship_tag": "ABX9TyPsf+zuljBgbp4RGsUMcw+U"
    },
    "kernelspec": {
      "name": "python3",
      "display_name": "Python 3"
    },
    "language_info": {
      "name": "python"
    }
  },
  "cells": [
    {
      "cell_type": "code",
      "source": [
        "# prompt: Read the data from the CSV file on this path \"/content/drive/MyDrive/IITD DS ML/Data sets for projects/spotify dataset 3-1.csv\" into a pandas dataframe and describe the dataset\n",
        "\n",
        "import pandas as pd\n",
        "\n",
        "# Path to your CSV file\n",
        "file_path = \"/content/drive/MyDrive/IITD DS ML/Data sets for projects/spotify dataset 3-1.csv\"\n",
        "\n",
        "try:\n",
        "    # Read the CSV file into a pandas DataFrame\n",
        "    df = pd.read_csv(file_path)\n",
        "\n",
        "    # Describe the dataset\n",
        "    print(df.describe())\n",
        "    print(\"Shape is \" + repr(df.shape))\n",
        "\n",
        "except FileNotFoundError:\n",
        "    print(f\"Error: File not found at {file_path}\")\n",
        "except pd.errors.ParserError:\n",
        "    print(f\"Error: Could not parse the CSV file at {file_path}. Please check the file format.\")\n",
        "except Exception as e:\n",
        "    print(f\"An unexpected error occurred: {e}\")\n",
        "\n"
      ],
      "metadata": {
        "colab": {
          "base_uri": "https://localhost:8080/"
        },
        "id": "-oPT7ffm5lZq",
        "outputId": "7ea92e05-95ef-48dd-e576-f2e31a89aea4"
      },
      "execution_count": 3,
      "outputs": [
        {
          "output_type": "stream",
          "name": "stdout",
          "text": [
            "          Unnamed: 0     popularity   duration_ms   danceability  \\\n",
            "count  114000.000000  114000.000000  1.140000e+05  114000.000000   \n",
            "mean    56999.500000      33.238535  2.280292e+05       0.566800   \n",
            "std     32909.109681      22.305078  1.072977e+05       0.173542   \n",
            "min         0.000000       0.000000  0.000000e+00       0.000000   \n",
            "25%     28499.750000      17.000000  1.740660e+05       0.456000   \n",
            "50%     56999.500000      35.000000  2.129060e+05       0.580000   \n",
            "75%     85499.250000      50.000000  2.615060e+05       0.695000   \n",
            "max    113999.000000     100.000000  5.237295e+06       0.985000   \n",
            "\n",
            "              energy            key       loudness           mode  \\\n",
            "count  114000.000000  114000.000000  114000.000000  114000.000000   \n",
            "mean        0.641383       5.309140      -8.258960       0.637553   \n",
            "std         0.251529       3.559987       5.029337       0.480709   \n",
            "min         0.000000       0.000000     -49.531000       0.000000   \n",
            "25%         0.472000       2.000000     -10.013000       0.000000   \n",
            "50%         0.685000       5.000000      -7.004000       1.000000   \n",
            "75%         0.854000       8.000000      -5.003000       1.000000   \n",
            "max         1.000000      11.000000       4.532000       1.000000   \n",
            "\n",
            "         speechiness   acousticness  instrumentalness       liveness  \\\n",
            "count  114000.000000  114000.000000     114000.000000  114000.000000   \n",
            "mean        0.084652       0.314910          0.156050       0.213553   \n",
            "std         0.105732       0.332523          0.309555       0.190378   \n",
            "min         0.000000       0.000000          0.000000       0.000000   \n",
            "25%         0.035900       0.016900          0.000000       0.098000   \n",
            "50%         0.048900       0.169000          0.000042       0.132000   \n",
            "75%         0.084500       0.598000          0.049000       0.273000   \n",
            "max         0.965000       0.996000          1.000000       1.000000   \n",
            "\n",
            "             valence          tempo  time_signature  \n",
            "count  114000.000000  114000.000000   114000.000000  \n",
            "mean        0.474068     122.147837        3.904035  \n",
            "std         0.259261      29.978197        0.432621  \n",
            "min         0.000000       0.000000        0.000000  \n",
            "25%         0.260000      99.218750        4.000000  \n",
            "50%         0.464000     122.017000        4.000000  \n",
            "75%         0.683000     140.071000        4.000000  \n",
            "max         0.995000     243.372000        5.000000  \n",
            "Shape is (114000, 21)\n"
          ]
        }
      ]
    },
    {
      "cell_type": "code",
      "source": [
        "print(df.head())"
      ],
      "metadata": {
        "colab": {
          "base_uri": "https://localhost:8080/"
        },
        "id": "uPByCmF5AZuj",
        "outputId": "5826fbfe-30da-428b-9faf-e4ba649c07b0"
      },
      "execution_count": 7,
      "outputs": [
        {
          "output_type": "stream",
          "name": "stdout",
          "text": [
            "   Unnamed: 0                track_id                 artists  \\\n",
            "0           0  5SuOikwiRyPMVoIQDJUgSV             Gen Hoshino   \n",
            "1           1  4qPNDBW1i3p13qLCt0Ki3A            Ben Woodward   \n",
            "2           2  1iJBSr7s7jYXzM8EGcbK5b  Ingrid Michaelson;ZAYN   \n",
            "3           3  6lfxq3CG4xtTiEg7opyCyx            Kina Grannis   \n",
            "4           4  5vjLSffimiIP26QG5WcN2K        Chord Overstreet   \n",
            "\n",
            "                                          album_name  \\\n",
            "0                                             Comedy   \n",
            "1                                   Ghost (Acoustic)   \n",
            "2                                     To Begin Again   \n",
            "3  Crazy Rich Asians (Original Motion Picture Sou...   \n",
            "4                                            Hold On   \n",
            "\n",
            "                   track_name  popularity  duration_ms  explicit  \\\n",
            "0                      Comedy          73       230666     False   \n",
            "1            Ghost - Acoustic          55       149610     False   \n",
            "2              To Begin Again          57       210826     False   \n",
            "3  Can't Help Falling In Love          71       201933     False   \n",
            "4                     Hold On          82       198853     False   \n",
            "\n",
            "   danceability  energy  ...  loudness  mode  speechiness  acousticness  \\\n",
            "0         0.676  0.4610  ...    -6.746     0       0.1430        0.0322   \n",
            "1         0.420  0.1660  ...   -17.235     1       0.0763        0.9240   \n",
            "2         0.438  0.3590  ...    -9.734     1       0.0557        0.2100   \n",
            "3         0.266  0.0596  ...   -18.515     1       0.0363        0.9050   \n",
            "4         0.618  0.4430  ...    -9.681     1       0.0526        0.4690   \n",
            "\n",
            "   instrumentalness  liveness  valence    tempo  time_signature  track_genre  \n",
            "0          0.000001    0.3580    0.715   87.917               4     acoustic  \n",
            "1          0.000006    0.1010    0.267   77.489               4     acoustic  \n",
            "2          0.000000    0.1170    0.120   76.332               4     acoustic  \n",
            "3          0.000071    0.1320    0.143  181.740               3     acoustic  \n",
            "4          0.000000    0.0829    0.167  119.949               4     acoustic  \n",
            "\n",
            "[5 rows x 21 columns]\n"
          ]
        }
      ]
    },
    {
      "cell_type": "code",
      "source": [
        "print(df['track_genre'].unique())"
      ],
      "metadata": {
        "colab": {
          "base_uri": "https://localhost:8080/"
        },
        "id": "IxCOTZM7ZI4G",
        "outputId": "87fb0e8f-141b-4643-a86f-c1c43d7086c9"
      },
      "execution_count": 8,
      "outputs": [
        {
          "output_type": "stream",
          "name": "stdout",
          "text": [
            "['acoustic' 'afrobeat' 'alt-rock' 'alternative' 'ambient' 'anime'\n",
            " 'black-metal' 'bluegrass' 'blues' 'brazil' 'breakbeat' 'british'\n",
            " 'cantopop' 'chicago-house' 'children' 'chill' 'classical' 'club' 'comedy'\n",
            " 'country' 'dance' 'dancehall' 'death-metal' 'deep-house' 'detroit-techno'\n",
            " 'disco' 'disney' 'drum-and-bass' 'dub' 'dubstep' 'edm' 'electro'\n",
            " 'electronic' 'emo' 'folk' 'forro' 'french' 'funk' 'garage' 'german'\n",
            " 'gospel' 'goth' 'grindcore' 'groove' 'grunge' 'guitar' 'happy'\n",
            " 'hard-rock' 'hardcore' 'hardstyle' 'heavy-metal' 'hip-hop' 'honky-tonk'\n",
            " 'house' 'idm' 'indian' 'indie-pop' 'indie' 'industrial' 'iranian'\n",
            " 'j-dance' 'j-idol' 'j-pop' 'j-rock' 'jazz' 'k-pop' 'kids' 'latin'\n",
            " 'latino' 'malay' 'mandopop' 'metal' 'metalcore' 'minimal-techno' 'mpb'\n",
            " 'new-age' 'opera' 'pagode' 'party' 'piano' 'pop-film' 'pop' 'power-pop'\n",
            " 'progressive-house' 'psych-rock' 'punk-rock' 'punk' 'r-n-b' 'reggae'\n",
            " 'reggaeton' 'rock-n-roll' 'rock' 'rockabilly' 'romance' 'sad' 'salsa'\n",
            " 'samba' 'sertanejo' 'show-tunes' 'singer-songwriter' 'ska' 'sleep'\n",
            " 'songwriter' 'soul' 'spanish' 'study' 'swedish' 'synth-pop' 'tango'\n",
            " 'techno' 'trance' 'trip-hop' 'turkish' 'world-music']\n"
          ]
        }
      ]
    },
    {
      "cell_type": "code",
      "source": [
        "df = pd.read_csv(file_path)\n",
        "\n",
        "# Group by track_genre and count occurrences\n",
        "genre_counts = df.groupby('track_genre')['track_genre'].count()\n",
        "\n",
        "# Print the counts without truncation\n",
        "print(genre_counts)\n"
      ],
      "metadata": {
        "colab": {
          "base_uri": "https://localhost:8080/"
        },
        "id": "VicjV8qIZuQe",
        "outputId": "35441bb9-0acd-4149-c2a9-7b378634778b"
      },
      "execution_count": 1,
      "outputs": [
        {
          "output_type": "stream",
          "name": "stdout",
          "text": [
            "track_genre\n",
            "acoustic       1000\n",
            "afrobeat       1000\n",
            "alt-rock       1000\n",
            "alternative    1000\n",
            "ambient        1000\n",
            "               ... \n",
            "techno         1000\n",
            "trance         1000\n",
            "trip-hop       1000\n",
            "turkish        1000\n",
            "world-music    1000\n",
            "Name: track_genre, Length: 114, dtype: int64\n"
          ]
        }
      ]
    },
    {
      "cell_type": "code",
      "source": [],
      "metadata": {
        "id": "GbfrX3-2MJXw"
      },
      "execution_count": null,
      "outputs": []
    }
  ]
}